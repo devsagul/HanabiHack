{
 "cells": [
  {
   "cell_type": "code",
   "execution_count": 1,
   "metadata": {},
   "outputs": [
    {
     "name": "stdout",
     "output_type": "stream",
     "text": [
      "bigartm\t\t\t\t\t\t\t     docword.kos.txt\r\n",
      "bigartm.artemiy-pc.mr9bit.log.INFO.20190629-193506.19673     enry\r\n",
      "bigartm.artemiy-pc.mr9bit.log.INFO.20190629-203659.22100     env\r\n",
      "bigartm.artemiy-pc.mr9bit.log.WARNING.20190629-193508.19673  HanabiHack\r\n",
      "bigartm.artemiy-pc.mr9bit.log.WARNING.20190629-203709.22100  hARTM_train.ipynb\r\n",
      "bigartm.INFO\t\t\t\t\t\t     phi1.batch\r\n",
      "big_artm.ipynb\t\t\t\t\t\t     phi2.batch\r\n",
      "bigartm.WARNING\t\t\t\t\t\t     phi3.batch\r\n",
      "contac_data.ipynb\t\t\t\t\t     vocab.kos.txt\r\n",
      "Dockerfile\r\n"
     ]
    }
   ],
   "source": [
    "!ls"
   ]
  },
  {
   "cell_type": "code",
   "execution_count": 2,
   "metadata": {},
   "outputs": [
    {
     "name": "stdout",
     "output_type": "stream",
     "text": [
      "/home/mr9bit/bigartm/HanabiHack\n"
     ]
    }
   ],
   "source": [
    "%cd HanabiHack"
   ]
  },
  {
   "cell_type": "code",
   "execution_count": 3,
   "metadata": {},
   "outputs": [
    {
     "name": "stdout",
     "output_type": "stream",
     "text": [
      "/home/mr9bit/bigartm/HanabiHack\r\n"
     ]
    }
   ],
   "source": [
    "!pwd"
   ]
  },
  {
   "cell_type": "code",
   "execution_count": 4,
   "metadata": {},
   "outputs": [],
   "source": [
    "lang_list = [\n",
    "    ('python', 'data/python/*.py'),\n",
    "    ('c_lang', 'data/c/*.c'),\n",
    "    ('cpp', 'data/cpp/*.cpp'), \n",
    "    ('javascript', 'data/java/*.js')\n",
    "]"
   ]
  },
  {
   "cell_type": "code",
   "execution_count": 33,
   "metadata": {},
   "outputs": [],
   "source": [
    "import glob\n",
    "\n",
    "output = open(\"../data/lang_data_small.vw\",\"w\") # Выходной файл\n",
    "list_length = []\n",
    "\n",
    "for lang, path in lang_list:\n",
    "    files = glob.glob(path)[:5000]\n",
    "    for index, file in enumerate(files):\n",
    "        with open(file, 'r') as file:\n",
    "            data = file.read().replace('\\n', ' ') # Заменяем всяческие отступы на пробелы\n",
    "            data = data.replace('\\t', ' ')\n",
    "            data = data.replace('|', ' ')\n",
    "            data = data.replace('.', ' ')\n",
    "            data = data.replace('    ', ' ').lower()\n",
    "            data = data.replace(':', ' dotdot')\n",
    "            list_length.append(len(data))\n",
    "        output.write('{} |text {} |class_id {}\\n'.format(index, data, lang)) "
   ]
  },
  {
   "cell_type": "code",
   "execution_count": 34,
   "metadata": {},
   "outputs": [],
   "source": [
    "output.close()"
   ]
  },
  {
   "cell_type": "code",
   "execution_count": 35,
   "metadata": {},
   "outputs": [
    {
     "data": {
      "text/plain": [
       "12464.251262135922"
      ]
     },
     "execution_count": 35,
     "metadata": {},
     "output_type": "execute_result"
    }
   ],
   "source": [
    "import numpy as np\n",
    "avg = np.asarray(list_length)\n",
    "np.average(avg)"
   ]
  },
  {
   "cell_type": "code",
   "execution_count": null,
   "metadata": {},
   "outputs": [],
   "source": []
  }
 ],
 "metadata": {
  "kernelspec": {
   "display_name": "Python 3",
   "language": "python",
   "name": "python3"
  },
  "language_info": {
   "codemirror_mode": {
    "name": "ipython",
    "version": 3
   },
   "file_extension": ".py",
   "mimetype": "text/x-python",
   "name": "python",
   "nbconvert_exporter": "python",
   "pygments_lexer": "ipython3",
   "version": "3.6.8"
  }
 },
 "nbformat": 4,
 "nbformat_minor": 2
}
